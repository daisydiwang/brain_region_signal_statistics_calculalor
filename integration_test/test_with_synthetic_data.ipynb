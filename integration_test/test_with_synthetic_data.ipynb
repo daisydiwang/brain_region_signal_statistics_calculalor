{
 "cells": [
  {
   "cell_type": "markdown",
   "metadata": {},
   "source": [
    "## Objective: testing the correctness of brain_region_signal_statistics_calculator using a synthetic data\n"
   ]
  },
  {
   "cell_type": "code",
   "execution_count": 1,
   "metadata": {},
   "outputs": [],
   "source": [
    "import pandas as pd\n",
    "import numpy as np\n",
    "import sys, os\n",
    "sys.path.append(\"../\")\n",
    "from volume_statistics_calculalor.brain_region_signal_statistics_calculalor import BrainRegionSignalStatisticsCalculator\n"
   ]
  },
  {
   "cell_type": "markdown",
   "metadata": {},
   "source": [
    "## Create synthetic data set"
   ]
  },
  {
   "cell_type": "code",
   "execution_count": 2,
   "metadata": {
    "scrolled": true
   },
   "outputs": [
    {
     "name": "stdout",
     "output_type": "stream",
     "text": [
      "signal_volume:\n",
      "[[ 0  0  0  0]\n",
      " [ 0  1  2  3]\n",
      " [ 0  2  4  6]\n",
      " [ 0  3  6  9]\n",
      " [ 0  4  8 12]\n",
      " [ 0  5 10 15]\n",
      " [ 0  6 12 18]]\n",
      "annotation_volume:\n",
      "[[0 0 0 0]\n",
      " [1 1 1 1]\n",
      " [2 2 2 2]\n",
      " [3 3 3 3]\n",
      " [4 4 4 4]\n",
      " [5 5 5 5]\n",
      " [6 6 6 6]]\n"
     ]
    }
   ],
   "source": [
    "# signal volume and annotation volume\n",
    "signal_file = './synthetic_data/signal.npz'\n",
    "annotation_file = './synthetic_data/annotation.npz'\n",
    "\n",
    "cols, rows = 4, 7\n",
    "signal_volume = np.array([[i*j for i in range(cols)] for j in range(rows)])\n",
    "print(\"signal_volume:\")\n",
    "print(signal_volume)\n",
    "\n",
    "annotation_volume = np.array([[j for i in range(cols)] for j in range(rows)])\n",
    "print(\"annotation_volume:\")\n",
    "print(annotation_volume)\n",
    "\n",
    "np.savez_compressed(signal_file, signal_volume)\n",
    "np.savez_compressed(annotation_file, annotation_volume)\n",
    "\n",
    "# structure file\n",
    "d = {'id': [1, 2, 3, 4, 5, 6], \n",
    "     'structure_id_path': ['/1/', \n",
    "                           '/1/2/', \n",
    "                           '/1/2/3/',\n",
    "                           '/4/',\n",
    "                           '/4/5/',\n",
    "                           '/4/6/',\n",
    "                          ]}\n",
    "\n",
    "structures_df_path = './synthetic_data/structures.csv'\n",
    "structures_df = pd.DataFrame(data=d)\n",
    "structures_df.to_csv(structures_df_path, header=True)\n"
   ]
  },
  {
   "cell_type": "markdown",
   "metadata": {},
   "source": [
    "## Ground truth"
   ]
  },
  {
   "cell_type": "markdown",
   "metadata": {},
   "source": [
    "```\n",
    "Region structure\n",
    "  +-- 1\n",
    "  |   +-- 2 +-- 3\n",
    "  +-- 4\n",
    "  |   +-- 5\n",
    "  |   +-- 6\n",
    "```\n",
    "\n",
    "* The number of leaf nodes without any children: 3\n",
    "(id: 3, 5, 6)\n",
    "* The number of unique labels in anaotation volume: 7\n",
    "(id: 0, 1, 2, 3, 4, 5, 6)\n",
    "* The number of valid labels in anaotation volume: 3\n",
    "(id: 3, 5, 6)\n",
    "* The number of invalid labels in anaotation volume: 4\n",
    "(id: 0 (background), 1, 2, 4)"
   ]
  },
  {
   "cell_type": "markdown",
   "metadata": {},
   "source": [
    "## Testing "
   ]
  },
  {
   "cell_type": "code",
   "execution_count": 3,
   "metadata": {},
   "outputs": [
    {
     "name": "stdout",
     "output_type": "stream",
     "text": [
      "# of leaf nodes without any children: 3\n",
      "# of unique labels in anaotation volume: 7\n",
      "# of valid labels in anaotation volume: 3\n",
      "# of invalid labels in anaotation volume: 4\n"
     ]
    }
   ],
   "source": [
    "calculator = BrainRegionSignalStatisticsCalculator('synthetic_data/annotation.npz', \n",
    "                                                   'synthetic_data/signal.npz', \n",
    "                                                   'synthetic_data/structures.csv', \n",
    "                                                   'synthetic_data/statistics_ground_truth.csv')\n",
    "brain_statistics = calculator.calculate()"
   ]
  },
  {
   "cell_type": "code",
   "execution_count": 4,
   "metadata": {
    "scrolled": true
   },
   "outputs": [
    {
     "data": {
      "text/plain": [
       "{1: {'mean': 4.5, 'min': 0, 'max': 9, 'sum': 18, 'count': 4},\n",
       " 2: {'mean': 4.5, 'min': 0, 'max': 9, 'sum': 18, 'count': 4},\n",
       " 3: {'mean': 4.5, 'min': 0, 'max': 9, 'sum': 18, 'count': 4},\n",
       " 4: {'mean': 8.25, 'min': 0, 'max': 18, 'sum': 66, 'count': 8},\n",
       " 5: {'mean': 7.5, 'min': 0, 'max': 15, 'sum': 30, 'count': 4},\n",
       " 6: {'mean': 9.0, 'min': 0, 'max': 18, 'sum': 36, 'count': 4}}"
      ]
     },
     "execution_count": 4,
     "metadata": {},
     "output_type": "execute_result"
    }
   ],
   "source": [
    "brain_statistics"
   ]
  },
  {
   "cell_type": "code",
   "execution_count": null,
   "metadata": {},
   "outputs": [],
   "source": []
  }
 ],
 "metadata": {
  "kernelspec": {
   "display_name": "Python 3",
   "language": "python",
   "name": "python3"
  },
  "language_info": {
   "codemirror_mode": {
    "name": "ipython",
    "version": 3
   },
   "file_extension": ".py",
   "mimetype": "text/x-python",
   "name": "python",
   "nbconvert_exporter": "python",
   "pygments_lexer": "ipython3",
   "version": "3.7.3"
  }
 },
 "nbformat": 4,
 "nbformat_minor": 2
}
